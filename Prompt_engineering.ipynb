{
  "nbformat": 4,
  "nbformat_minor": 0,
  "metadata": {
    "colab": {
      "provenance": [],
      "collapsed_sections": [
        "96E0vTBXPSG4",
        "FMOB25UkUwX1",
        "Ggv2wb4nVZ53",
        "AJxLAm9GpP-R",
        "3TP99KsUpa6O",
        "hRICeqvlXuSd"
      ],
      "authorship_tag": "ABX9TyPLeWXASwSO58xPGspQnwqa",
      "include_colab_link": true
    },
    "kernelspec": {
      "name": "python3",
      "display_name": "Python 3"
    },
    "language_info": {
      "name": "python"
    }
  },
  "cells": [
    {
      "cell_type": "markdown",
      "metadata": {
        "id": "view-in-github",
        "colab_type": "text"
      },
      "source": [
        "<a href=\"https://colab.research.google.com/github/BognarAndras/Girls_Day_2025/blob/main/Prompt_engineering.ipynb\" target=\"_parent\"><img src=\"https://colab.research.google.com/assets/colab-badge.svg\" alt=\"Open In Colab\"/></a>"
      ]
    },
    {
      "cell_type": "markdown",
      "source": [
        "## Hogyan NE használjunk chat botokat?\n",
        "\n",
        "\n",
        "\n",
        "\n",
        "\n",
        "#### Kérdés: Pontosan hány falu volt Magyarország területén 1460-ban?\n"
      ],
      "metadata": {
        "id": "96E0vTBXPSG4"
      }
    },
    {
      "cell_type": "markdown",
      "source": [
        "###[Le Chat](https://chat.mistral.ai/)"
      ],
      "metadata": {
        "id": "3LZMHKOzVrUa"
      }
    },
    {
      "cell_type": "markdown",
      "source": [
        "#### Jobb kérdés: Mi a legjobb becslés, amit a falvak számáról tudsz adni Magyarország területén a 15. században?"
      ],
      "metadata": {
        "id": "lar0ylPkUwl1"
      }
    },
    {
      "cell_type": "markdown",
      "source": [
        "#### Jobb kérdés: Körülbelül hány falu volt Magyarország területén Hunyadi Mátyás uralkodás idején?\n"
      ],
      "metadata": {
        "id": "slQy84d_Uwf0"
      }
    },
    {
      "cell_type": "markdown",
      "source": [
        "####[Válasz?](https://www.oktatas.hu/bin/content/dload/erettsegi/feladatok_2024tavasz_emelt/e_tort_24maj_fl.pdf)"
      ],
      "metadata": {
        "id": "397E5D90UbnH"
      }
    },
    {
      "cell_type": "markdown",
      "source": [
        "## A problémák\n"
      ],
      "metadata": {
        "id": "FMOB25UkUwX1"
      }
    },
    {
      "cell_type": "markdown",
      "source": [
        "1. Kevés adat (Magyar történelem)\n",
        "2. Logikai érvelés (Hunyadi Mátyás = 1443-1490?)\n",
        "3. Becslés --> hallucináció (különböző források)"
      ],
      "metadata": {
        "id": "DUXUpRj9VaAl"
      }
    },
    {
      "cell_type": "markdown",
      "source": [
        "## A megoldások"
      ],
      "metadata": {
        "id": "Ggv2wb4nVZ53"
      }
    },
    {
      "cell_type": "markdown",
      "source": [
        "1. Kevés adat  (Magyar történelem) --> [tovább tanítás](https://www.datacamp.com/tutorial/fine-tuning-large-language-models)\n",
        "2. Logikai érvelés (Hunyadi Mátyás = 1443-1490?) --> [logikusan gondolkodó modell](https://github.com/teacherpeterpan/Logic-LLM?tab=readme-ov-file)?\n",
        "3. Hallucináció--> Jobb kérdések, források"
      ],
      "metadata": {
        "id": "Xg6XxSaBVZzb"
      }
    },
    {
      "cell_type": "markdown",
      "source": [
        "## Hogyan használjunk chat botokat?\n",
        "\n",
        "\n"
      ],
      "metadata": {
        "id": "kBlh5qoEW4o8"
      }
    },
    {
      "cell_type": "markdown",
      "source": [
        "#### Utasítás részei\n",
        "\n"
      ],
      "metadata": {
        "id": "AJxLAm9GpP-R"
      }
    },
    {
      "cell_type": "markdown",
      "source": [
        "1. Cél: Milyen formátumban várod a választ: táblázat, felsorolás, csv fájl, kép stb.\n",
        "2. Kontextus: Milyen célra kell a válasz?\n",
        "3. Forrás: Honnan keressen adatot a modell?\n",
        "4. Stílus: nyelvezet, szerep."
      ],
      "metadata": {
        "id": "ZlqLuwE5uGa8"
      }
    },
    {
      "cell_type": "code",
      "source": [
        "from IPython.display import Image\n",
        "Image(filename='prompt.jpeg', width=750)\n"
      ],
      "metadata": {
        "colab": {
          "base_uri": "https://localhost:8080/",
          "height": 525
        },
        "id": "-z2qZKzqXtiR",
        "outputId": "e0091461-1ebb-4a5a-e5f1-8a8df5e023ea"
      },
      "execution_count": null,
      "outputs": [
        {
          "output_type": "execute_result",
          "data": {
            "image/jpeg": "[encoded data removed]",
            "text/plain": [
              "<IPython.core.display.Image object>"
            ]
          },
          "metadata": {
            "image/jpeg": {
              "width": 750
            }
          },
          "execution_count": 4
        }
      ]
    },
    {
      "cell_type": "markdown",
      "source": [
        "### [Forrás](https://www.bytes.co.uk/application/files/2317/0956/1580/Prompt_Ingredients_One_Pager_PDF.pdf)"
      ],
      "metadata": {
        "id": "tJHm-NgzeZQN"
      }
    },
    {
      "cell_type": "markdown",
      "source": [
        "### Példa: Segíts felkészülni a 2008-as pénzügyi válság témára."
      ],
      "metadata": {
        "id": "3TP99KsUpa6O"
      }
    },
    {
      "cell_type": "markdown",
      "source": [
        "### [Perplexity](https://www.perplexity.ai/)\n",
        "\n",
        "#### Jobb: Készíts idővonalat a 2008-as válság kiváltó okairól és legfontosabb eseményeiről maximum 10 pontban."
      ],
      "metadata": {
        "id": "a7mguEs1pa3N"
      }
    },
    {
      "cell_type": "markdown",
      "source": [
        "#### Jobb: Történelem érettségire készülök és szeretnék egy átfogó képet kapni a 2008-as válságról. Készíts idővonalat kiváltó okairól és legfontosabb eseményeiről maximum 10 pontban."
      ],
      "metadata": {
        "id": "i5SH8lpApa0N"
      }
    },
    {
      "cell_type": "markdown",
      "source": [
        "#### Jobb: Történelem érettségire készülök és szeretnék egy átfogó képet kapni a 2008-as válságról. Készíts idővonalat kiváltó okairól és legfontosabb eseményeiről maximum 10 pontban. Jelöld meg, hogy milyen nemzetközi pénzügyi szervezetek adataiból tudok jobban utána nézni a válság következményeinek."
      ],
      "metadata": {
        "id": "BFGrD_zFpas8"
      }
    },
    {
      "cell_type": "markdown",
      "source": [
        "#### **Tanulás (Persona):** Te az MNB egy nemzetközi gazdasági elemzője vagy. Segíts nekem felkészülni a történelem érettségire a 2008-as pénzügyi válság tételből. Foglald össze a legfontosabb kiváltó okokat és  eseményeket maximum 10 pontban. Jelöld meg, hogy milyen nemzetközi pénzügyi szervezetek adataiból tudok jobban utána nézni a válság következményeinek. Ezután tegyél fel nekem 3 kifejtős kérdést a témában, várd meg a válaszaimat és értékeld ki azokat az alapján, hogy mennyire pontosak és milyen jól értettem meg a válsággal kapcsolatos nemzetközi folyamatok hatásait."
      ],
      "metadata": {
        "id": "IqEE5q6XshWN"
      }
    },
    {
      "cell_type": "markdown",
      "source": [
        "#### Próba: Gyűjtsük össze a nagy nyelvi modellek legfontosabb előrelépéseit és megoldatlan kérdéseit.\n",
        "\n",
        "---\n",
        "\n"
      ],
      "metadata": {
        "id": "7we3-Cm4sjb6"
      }
    },
    {
      "cell_type": "markdown",
      "source": [
        "### Melyik modelL?\n"
      ],
      "metadata": {
        "id": "hRICeqvlXuSd"
      }
    },
    {
      "cell_type": "markdown",
      "source": [
        "- gyors\n",
        "- ingyenes\n",
        "- legújabb\n"
      ],
      "metadata": {
        "id": "7qAhNADzXvff"
      }
    },
    {
      "cell_type": "markdown",
      "source": [
        "\n",
        "\n",
        "#### Feladat:\n",
        "\n",
        "- [ChatGPT](https://chatgpt.com/) - párbeszéd alapú chatbot\n",
        "- [Perplexity](https://www.perplexity.ai/) - elemzésre\n",
        "- [deepai](https://deepai.org/) - képek\n",
        "- [GitHub Copilot](https://education.github.com/discount_requests/application) - kód + diák kedvezmény (ingyenes)\n",
        "\n",
        "#### Open Source?\n",
        "\n",
        "- [Le Chat](https://chat.mistral.ai/) + diák kedvezmény ($5.99/ hó)\n",
        "\n",
        "\n",
        "#### Privát:\n",
        "\n",
        "- [ollama](https://github.com/ollama/ollama)\n",
        "\n"
      ],
      "metadata": {
        "id": "EPVU9svqVZF5"
      }
    },
    {
      "cell_type": "code",
      "source": [],
      "metadata": {
        "id": "ojAhyySWYQxY"
      },
      "execution_count": null,
      "outputs": []
    }
  ]
}